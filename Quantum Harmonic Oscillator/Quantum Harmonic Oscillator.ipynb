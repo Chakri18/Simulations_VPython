{
 "cells": [
  {
   "cell_type": "markdown",
   "metadata": {},
   "source": [
    "<center><h1>Quantum Harmonic Oscillator</h1></center>"
   ]
  },
  {
   "cell_type": "markdown",
   "metadata": {},
   "source": [
    "### Importing the necessary modules and specifying the boundary conditions"
   ]
  },
  {
   "cell_type": "code",
   "execution_count": null,
   "metadata": {},
   "outputs": [],
   "source": [
    "import sys\n",
    "import vpython as vp\n",
    "from math import *\n",
    "sys.path.append('/home/Tesla/Programming/PrOjEcT/Modules')\n",
    "from RK4CD_module import * \n",
    "\n",
    "# Initial conditions to solve the ODE\n",
    "psi0 = 0.0\n",
    "phi0 = 1.0\n",
    "scene = vp.canvas()"
   ]
  },
  {
   "cell_type": "markdown",
   "metadata": {},
   "source": [
    "### List of functions for the Project"
   ]
  },
  {
   "cell_type": "code",
   "execution_count": null,
   "metadata": {},
   "outputs": [],
   "source": [
    "def V(x):\n",
    "    '''\n",
    "    Returns the Potential \n",
    "    '''\n",
    "    return x**2\n",
    "    \n",
    "def f2(x,phi,psi):\n",
    "    return phi\n",
    "\n",
    "def f1(x,phi,psi):\n",
    "    global E\n",
    "    return (V(x)-E)*psi\n",
    "\n",
    "def solver(e):\n",
    "    '''\n",
    "    Returns the right boundary value of the wavefunction for a given arbitrary energy\n",
    "    '''\n",
    "    global E\n",
    "    E = e\n",
    "    A = 0.0\n",
    "    psi,phi,x = ODE_runge_4th_CD(f1,f2,phi0,psi0,-5,5)\n",
    "    for i in range(len(psi)):\n",
    "        A += psi[i]**2\n",
    "    for i in range(len(psi)):\n",
    "        psi[i] = psi[i]/sqrt(1.0*A)\n",
    "    return psi[-1]\n",
    "\n",
    "def solver_fullfunc(e):\n",
    "    '''\n",
    "    Returns the Wavefunction for a given energy\n",
    "    '''\n",
    "    global E\n",
    "    E = e\n",
    "    A = 0.0\n",
    "    psi,phi,x = ODE_runge_4th_CD(f1,f2,phi0,psi0,-5,5)\n",
    "    for i in range(len(psi)):\n",
    "        A += psi[i]**2\n",
    "    for i in range(len(psi)):\n",
    "        psi[i] = psi[i]/sqrt(1.0*A)\n",
    "    return psi,x"
   ]
  },
  {
   "cell_type": "markdown",
   "metadata": {},
   "source": [
    "### Initializing variables and defining graph objects in VPython"
   ]
  },
  {
   "cell_type": "code",
   "execution_count": null,
   "metadata": {},
   "outputs": [],
   "source": [
    "E_min = 0.0\n",
    "E_max = 15.0\n",
    "dE = 1.0\n",
    "Edash = linspace(E_min,E_max,(E_max-E_min)/dE+1)\n",
    "boundary = []\n",
    "\n",
    "for e in Edash:\n",
    "    boundary.append(solver(e))\n",
    "e1,e2,wf1,wf2,PSIS,EIGEN,PSI_Im,PSI_Re = ([] for _ in range(8))\n",
    "\n",
    "gr = vp.graph(xmin = -6.0, xmax = 6.0, ymin = -0.085, ymax = 0.085, title = 'Time Evolution', xtitle = 'x')\n",
    "psireal = vp.gcurve(color = vp.color.red, label = 'Re(psi)')\n",
    "psiimag = vp.gcurve(color = vp.color.green, label = 'Im(psi)')\n",
    "psisquare = vp.gcurve(color = vp.color.blue, label = 'psi square')"
   ]
  },
  {
   "cell_type": "markdown",
   "metadata": {},
   "source": [
    "### Extracting the eigenvalues of the system by Bisection method"
   ]
  },
  {
   "cell_type": "code",
   "execution_count": null,
   "metadata": {},
   "outputs": [],
   "source": [
    "for i in range(len(Edash)-1):\n",
    "    if boundary[i]*boundary[i+1]<=0:\n",
    "        e1.append(Edash[i]);e2.append(Edash[i+1])\n",
    "        wf1.append(boundary[i]);wf2.append(boundary[i+1])\n",
    "        \n",
    "for i in range(len(e1)):\n",
    "    x0 = e1[i]\n",
    "    x1 = e2[i]\n",
    "    dx = x1 - x0\n",
    "    c = 0\n",
    "    while(abs(dx)>0.00000001):\n",
    "        c = (x0+x1)/2\n",
    "        if(solver(c)==0):\n",
    "            break\n",
    "        if(solver(x0)*solver(c)<0):\n",
    "            x1 = c\n",
    "        else:\n",
    "            x0 = c\n",
    "        dx = x1 - x0\n",
    "        psi,x = solver_fullfunc(c)\n",
    "    PSIS.append(psi)\n",
    "    plot(x,psi)\n",
    "    EIGEN.append(c)\n",
    "    print(\"Eigenvalue no %lf:%lf\"%(i+1,c))\n",
    "show()"
   ]
  },
  {
   "cell_type": "markdown",
   "metadata": {},
   "source": [
    "### Picking up arbitrary c's and finding the time dependent state"
   ]
  },
  {
   "cell_type": "code",
   "execution_count": null,
   "metadata": {},
   "outputs": [],
   "source": [
    "c1 = 0.5\n",
    "c2 = 0.5\n",
    "c3 = 0.5\n",
    "c4 = 0.5\n",
    "t_max = 10.0\n",
    "t = 0.0\n",
    "dt = 0.025\n",
    "while t <= t_max:\n",
    "    append1 = []\n",
    "    append2 = []\n",
    "    for i in range(len(PSIS[0])):\n",
    "        append1.append(-1*c1*PSIS[0][i]*sin(t*EIGEN[0]*0.5)-1*c2*PSIS[1][i]*sin(t*EIGEN[1]*\\\n",
    "        0.5)-1*c3*PSIS[2][i]*sin(t*EIGEN[2]*0.5)-1*c4*PSIS[3][i]*sin(t*EIGEN[3]*0.5))\n",
    "        append2.append(c1*PSIS[0][i]*cos(t*EIGEN[0]*0.5)+c2*PSIS[1][i]*\\\n",
    "        cos(t*EIGEN[1]*0.5)+c3*PSIS[2][i]*cos(t*EIGEN[2]*0.5)+c4*PSIS[3][i]*cos(t*EIGEN[3]*0.5))\n",
    "    PSI_Im.append(append1)\n",
    "    PSI_Re.append(append2)\n",
    "    t += dt\n",
    "j = 0"
   ]
  },
  {
   "cell_type": "markdown",
   "metadata": {},
   "source": [
    "### Animating the time evolution"
   ]
  },
  {
   "cell_type": "code",
   "execution_count": null,
   "metadata": {},
   "outputs": [],
   "source": [
    "scene = vp.canvas()\n",
    "while j< len(PSI_Re):\n",
    "    graphlist1 = [(x[j],PSI_Re[j][0])]\n",
    "    graphlist2 = [(x[j],PSI_Im[j][0])]\n",
    "    graphlist3 = [(x[j],PSI_Re[j][0]**2 + PSI_Im[j][0]**2)]\n",
    "    vp.rate(20)\n",
    "    psiimag.delete()\n",
    "    psireal.delete()\n",
    "    psisquare.delete()\n",
    "    for r in range(len(x)):\n",
    "        graphlist2.append((x[r],PSI_Im[j][r]))\n",
    "        graphlist1.append((x[r],PSI_Re[j][r]))\n",
    "        graphlist3.append((x[r],PSI_Re[j][r]**2 + PSI_Im[j][r]**2))\n",
    "    psireal = vp.gcurve(color = vp.color.red)\n",
    "    psiimag = vp.gcurve(color = vp.color.green)\n",
    "    psisquare = vp.gcurve(color = vp.color.blue)\n",
    "    psiimag.plot(pos = graphlist2)\n",
    "    psireal.plot(pos = graphlist1)\n",
    "    psisquare.plot(pos = graphlist3)\n",
    "    j+=1"
   ]
  }
 ],
 "metadata": {
  "kernelspec": {
   "display_name": "VPython",
   "language": "python",
   "name": "vpython"
  },
  "language_info": {
   "codemirror_mode": {
    "name": "ipython",
    "version": 3
   },
   "file_extension": ".py",
   "mimetype": "text/x-python",
   "name": "python",
   "nbconvert_exporter": "python",
   "pygments_lexer": "ipython3",
   "version": "3.6.7"
  },
  "latex_envs": {
   "LaTeX_envs_menu_present": true,
   "autoclose": false,
   "autocomplete": true,
   "bibliofile": "biblio.bib",
   "cite_by": "apalike",
   "current_citInitial": 1,
   "eqLabelWithNumbers": true,
   "eqNumInitial": 1,
   "hotkeys": {
    "equation": "Ctrl-E",
    "itemize": "Ctrl-I"
   },
   "labels_anchors": false,
   "latex_user_defs": false,
   "report_style_numbering": false,
   "user_envs_cfg": false
  },
  "toc": {
   "base_numbering": 1,
   "nav_menu": {},
   "number_sections": false,
   "sideBar": true,
   "skip_h1_title": false,
   "title_cell": "Table of Contents",
   "title_sidebar": "Contents",
   "toc_cell": false,
   "toc_position": {},
   "toc_section_display": true,
   "toc_window_display": false
  }
 },
 "nbformat": 4,
 "nbformat_minor": 2
}
