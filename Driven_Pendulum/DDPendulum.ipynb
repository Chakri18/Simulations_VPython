{
 "cells": [
  {
   "cell_type": "markdown",
   "metadata": {},
   "source": [
    "<center><h1>Simulation of Driven Damped Pendulum</h1></center>"
   ]
  },
  {
   "cell_type": "markdown",
   "metadata": {},
   "source": [
    "<h2> Introduction </h2>\n",
    "<p>A simple Pendulum is a model with a point mass hanged from a pivot using a string or rod with negligible mass. It is one of the widely studied physics toys.\n",
    "    \n",
    "<img src = \"Images/fig1.png\" align = 'left'> A simple pendulum is a resonant system with a single resonant frequency. The model assumes frictionless motion and massless rod. The trajectory of the point mass under small perturbations is given by simple harmonic motion around the equilibrium position as shown in the figure. </p>\n",
    "\n",
    "<p>Under small displacement by angle $\\theta $ from the equilibrium position, it is subject to a restoring force due to gravity. This restoring force will accelerate the point mass towards equilibrium position. This results in a periodic motion whose frequency depends only on the length of the rod and the strength of the gravitational force. </p>\n",
    "\n",
    "<p> Small displacements leads to linear equation of motion which can be solved analytically. Introducing non linear terms leads to non linear equations of motion which requires numerical methods.</p>\n",
    "\n",
    "<p>In this blog we will try to solve and simulate the motion of a Driven Damped Pendulum. We introduce an external driving force such as motor attached to pivot which will try to drive the point mass away from the equilibrium and air resistance which will tend to do the opposite. The result of both these counteracting factors will result in a trajectory which we shall explore and observe. </p> "
   ]
  },
  {
   "cell_type": "markdown",
   "metadata": {},
   "source": [
    "### Importing the required python and custom modules"
   ]
  },
  {
   "cell_type": "code",
   "execution_count": null,
   "metadata": {},
   "outputs": [],
   "source": [
    "import vpython as vp\n",
    "import sys\n",
    "from math import * \n",
    "sys.path.append(\"/home/Tesla/Programming/Misc/Driven_Pendulum/Modules/\")\n",
    "from RK4CD_module import *\n",
    "from jupyterthemes import jtplot\n",
    "jtplot.style()"
   ]
  },
  {
   "cell_type": "markdown",
   "metadata": {},
   "source": [
    "<h2> Equation of motion of a driven damped pendulum </h2>\n",
    "<p><img src = \"Images/fig2.gif\" align = \"right\" />\n",
    "<br>Using Newton's law of motion, we arrive at<br>\n",
    "$$ml\\ddot \\varphi + \\gamma l\\dot \\varphi + mgsin\\varphi = Acos(\\omega_Dt)$$\n",
    "where, $A$ = Amplitude of Oscillation, $\\gamma$ = damping coefficient, $l$ = length of the rod and $\\omega_D$ = frequency of the driving force\n",
    "</p>\n",
    "<p>\n",
    "The above equation is a non-linear second order differential equation. Unfortunately, there exists no analytical solution. We will attack this numerically and will employ a powerful technique Runge-Kutta algorithm. In order to use Runge-Kutta algorithm, we transform Eq (1) to a set of first order equations. The set of equations under the substitution $\\omega = \\dot \\varphi$ are,\n",
    "    $$\\dot \\omega = Acos(\\omega_Dt)/ml - \\gamma \\omega/m - gsin\\varphi/l$$$$\\omega = \\dot \\varphi$$\n",
    "</p>"
   ]
  },
  {
   "cell_type": "code",
   "execution_count": null,
   "metadata": {},
   "outputs": [],
   "source": [
    "time = 0.0; Amplitude = 3.0; t_max = 50.0 \n",
    "gravity = 9.81; damping = 0.16; lor = 1.2\n",
    "w0 = sqrt(gravity/lor); mass = 0.5\n",
    "\n",
    "my_bob = vp.sphere(pos = vp.vector(lor*sin(pi/2),0,0), radius = lor*0.1, color = vp.vector(1,1,1), make_trail = True)\n",
    "my_rod = vp.cylinder(pos = vp.vector(0,0,0), axis = my_bob.pos, radius = my_bob.radius*0.1, color = vp.vector(0.4,0.8,0.9))"
   ]
  },
  {
   "cell_type": "code",
   "execution_count": null,
   "metadata": {
    "code_folding": []
   },
   "outputs": [],
   "source": [
    "def force_driving(x):\n",
    "    return Amplitude*(cos(w0*x))/(mass*lor)\n",
    "\n",
    "def f1(x,y,z):\n",
    "    return z\n",
    "\n",
    "def f2(x,y,z):\n",
    "    return (-damping*z)/mass - (gravity*sin(y))/lor + force_driving(x)"
   ]
  },
  {
   "cell_type": "code",
   "execution_count": null,
   "metadata": {
    "code_folding": []
   },
   "outputs": [],
   "source": [
    "vw,vtheta,vt = ODE_runge_4th_CD(f1,f2,pi/2,0,0,t_max)\n",
    "\n",
    "plot(vt,vtheta)\n",
    "plot(vt,vw)\n",
    "legend(['y = theta(radians)','y = omega(rad/s)'], loc = 'upper right')\n",
    "xlabel('Time(s)')\n",
    "show()"
   ]
  },
  {
   "cell_type": "code",
   "execution_count": null,
   "metadata": {
    "code_folding": []
   },
   "outputs": [],
   "source": [
    "scene = vp.canvas()\n",
    "for theta in vtheta:\n",
    "    vp.rate(50)\n",
    "    my_bob.pos = vp.vector(lor*sin(theta),-lor*cos(theta),0)\n",
    "    my_rod.axis = my_bob.pos"
   ]
  }
 ],
 "metadata": {
  "kernelspec": {
   "display_name": "VPython",
   "language": "python",
   "name": "vpython"
  },
  "language_info": {
   "codemirror_mode": {
    "name": "ipython",
    "version": 3
   },
   "file_extension": ".py",
   "mimetype": "text/x-python",
   "name": "python",
   "nbconvert_exporter": "python",
   "pygments_lexer": "ipython3",
   "version": "3.6.5"
  },
  "latex_envs": {
   "LaTeX_envs_menu_present": true,
   "autoclose": false,
   "autocomplete": true,
   "bibliofile": "biblio.bib",
   "cite_by": "apalike",
   "current_citInitial": 1,
   "eqLabelWithNumbers": true,
   "eqNumInitial": 1,
   "hotkeys": {
    "equation": "Ctrl-E",
    "itemize": "Ctrl-I"
   },
   "labels_anchors": false,
   "latex_user_defs": false,
   "report_style_numbering": false,
   "user_envs_cfg": false
  },
  "toc": {
   "base_numbering": "",
   "nav_menu": {},
   "number_sections": false,
   "sideBar": true,
   "skip_h1_title": true,
   "title_cell": "Table of Contents",
   "title_sidebar": "Contents",
   "toc_cell": false,
   "toc_position": {
    "height": "537px",
    "left": "1128px",
    "top": "109px",
    "width": "192px"
   },
   "toc_section_display": true,
   "toc_window_display": false
  }
 },
 "nbformat": 4,
 "nbformat_minor": 2
}
